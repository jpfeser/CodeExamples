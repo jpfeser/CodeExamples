{
 "cells": [
  {
   "cell_type": "markdown",
   "id": "daeabffd-fcc2-46dd-823f-2bc3b59774ab",
   "metadata": {},
   "source": [
    "Version 1.0:  Feb 6, 2024\n",
    "\n",
    "# Importing Modules\n",
    "\n",
    "## 1. Basic usage\n",
    "\n",
    "Modules are an important concept in Python.  Unlike MATLAB, many of the most useful math and engineering functions aren't present by default and must be imported as needed.  Some of the most important modules for new users in engineering include\n",
    "\n",
    "* **numpy** (for high speed vector/matrix/math functions)\n",
    "* **scipy** (for advanced math operations:  integrating functions & ODEs, interpolation, optimization, sparse matrices, statistics.\n",
    "* **matplotlib.pyplot** (for plotting / specialized graphs)\n",
    "\n",
    "more experienced users may also find it useful to use specialized modules like \n",
    "* **sympy** (symbolic manipulation)\n",
    "* **fft** (Fourier transforms)\n",
    "* **pandas** (for Big (and small) Data)\n",
    "* **pytorch**, **tensorflow**, **scikit-learn** (Machine Learning Tools)\n",
    "* **nidaqmx**, **PySerial**, **PyVISA**, **PyLabJack** (Data Acquisition)\n",
    "* **os** (operating system commands)\n",
    "* **csv** (working with CSV/Spreadsheets)\n",
    "\n",
    "To import any module you can use the `import` command followed by the name of the module.  Example"
   ]
  },
  {
   "cell_type": "code",
   "execution_count": 25,
   "id": "c7384c76-5066-41f3-aaa2-7e9152047cc3",
   "metadata": {},
   "outputs": [],
   "source": [
    "import numpy"
   ]
  },
  {
   "cell_type": "markdown",
   "id": "17d59944-c980-45bd-b1ef-f9d1893c1add",
   "metadata": {},
   "source": [
    "Now you can use any functions or variables from the numpy module.  Just type `numpy.[name of function]`.  \n",
    "\n",
    "Example"
   ]
  },
  {
   "cell_type": "code",
   "execution_count": 26,
   "id": "4f2b1f1f-d2a5-427c-bc65-cf6b42b18e6a",
   "metadata": {},
   "outputs": [
    {
     "data": {
      "text/plain": [
       "0.0"
      ]
     },
     "execution_count": 26,
     "metadata": {},
     "output_type": "execute_result"
    }
   ],
   "source": [
    "numpy.sin(0)"
   ]
  },
  {
   "cell_type": "markdown",
   "id": "1790bf20-4328-4e1d-a8c6-9262d9df35b2",
   "metadata": {},
   "source": [
    "## 2. Short names (\"Aliases\")\n",
    "\n",
    "Typically, when you `import` you also give the module a shorter name using the `as` construct to avoid so much typing.  Typical usage goes like this"
   ]
  },
  {
   "cell_type": "code",
   "execution_count": 27,
   "id": "333487fc-3477-4dd5-a2a9-fcf9c50a21b6",
   "metadata": {},
   "outputs": [],
   "source": [
    "import numpy as np    # loads the whole numpy module using the name \"np\"\n",
    "import scipy.integrate as spint  #using .integrate only loads the \"integrate\" submodule from scipy\n",
    "import matplotlib.pyplot as plt   #using the .pyplot option loads only the \"pyplot\" submodule from "
   ]
  },
  {
   "cell_type": "markdown",
   "id": "b03ae9a7-4d77-4735-95b1-7aa536fa1227",
   "metadata": {},
   "source": [
    "After that you can use the short names for the packages.  Ex,"
   ]
  },
  {
   "cell_type": "code",
   "execution_count": 28,
   "id": "4810d7c3-ab5c-46d2-a50e-afcc35f153dc",
   "metadata": {},
   "outputs": [
    {
     "data": {
      "text/plain": [
       "[<matplotlib.lines.Line2D at 0x132c86290>]"
      ]
     },
     "execution_count": 28,
     "metadata": {},
     "output_type": "execute_result"
    },
    {
     "data": {
      "image/png": "[encoded data removed]",
      "text/plain": [
       "<Figure size 640x480 with 1 Axes>"
      ]
     },
     "metadata": {},
     "output_type": "display_data"
    }
   ],
   "source": [
    "# vector math with numpy (np)\n",
    "x = np.linspace(-1,1,11) ; # linspace -> create array of 11 evenly spaced values from -1 to 1.\n",
    "y = np.random.rand(x.size); # random numbers from 0 to 1 with same size as x (i.e. 11 values)\n",
    "\n",
    "# integration with scipy.integrate (spint)\n",
    "y_v_x_integral = spint.trapz(x,y);  # trapezoidal rule\n",
    "\n",
    "# plotting\n",
    "plt.plot(x,y)\n",
    "\n"
   ]
  },
  {
   "cell_type": "markdown",
   "id": "0df173b5-0845-42f3-987d-1034c1ba1049",
   "metadata": {},
   "source": [
    "## Importing Specific Functions or Variables\n",
    "\n",
    "Use the `from` command to import only a specific variable or function from a module.\n",
    "\n",
    "Example,"
   ]
  },
  {
   "cell_type": "code",
   "execution_count": 29,
   "id": "ea87fa26-c67b-426a-83bb-0e97427c2bbe",
   "metadata": {},
   "outputs": [
    {
     "name": "stdout",
     "output_type": "stream",
     "text": [
      "3.141592653589793\n"
     ]
    }
   ],
   "source": [
    "# Import only the value of pi\n",
    "from numpy import pi\n",
    "\n",
    "# Now you can use pi directly rather than typing np.pi\n",
    "print(pi)"
   ]
  },
  {
   "cell_type": "markdown",
   "id": "0788234c-49cd-4213-9eff-d75ac6f6f27e",
   "metadata": {},
   "source": [
    "## Importing Your Own Modules\n",
    "\n",
    "Though not common for beginners, experienced user can create your own modules and import them into other Python scripts. Make sure your module is in the same directory or is accessible through the Python path."
   ]
  },
  {
   "cell_type": "code",
   "execution_count": 30,
   "id": "503002d5-f0d4-4448-8287-ddf04228b324",
   "metadata": {},
   "outputs": [
    {
     "ename": "ModuleNotFoundError",
     "evalue": "No module named 'my_module'",
     "output_type": "error",
     "traceback": [
      "\u001b[0;31m---------------------------------------------------------------------------\u001b[0m",
      "\u001b[0;31mModuleNotFoundError\u001b[0m                       Traceback (most recent call last)",
      "Cell \u001b[0;32mIn[30], line 3\u001b[0m\n\u001b[1;32m      1\u001b[0m \u001b[38;5;66;03m# This works if you have a file named my_module.py in the same directory\u001b[39;00m\n\u001b[1;32m      2\u001b[0m \u001b[38;5;66;03m# Import the custom module\u001b[39;00m\n\u001b[0;32m----> 3\u001b[0m \u001b[38;5;28;01mimport\u001b[39;00m \u001b[38;5;21;01mmy_module\u001b[39;00m\n\u001b[1;32m      5\u001b[0m \u001b[38;5;66;03m# Use functions or variables from the custom module\u001b[39;00m\n\u001b[1;32m      6\u001b[0m result \u001b[38;5;241m=\u001b[39m my_module\u001b[38;5;241m.\u001b[39mmy_function()\n",
      "\u001b[0;31mModuleNotFoundError\u001b[0m: No module named 'my_module'"
     ]
    }
   ],
   "source": [
    "# This works if you have a file named my_module.py in the same directory\n",
    "# Import the custom module\n",
    "import my_module\n",
    "\n",
    "# Use functions or variables from the custom module\n",
    "result = my_module.my_function()\n",
    "print(result)"
   ]
  },
  {
   "cell_type": "code",
   "execution_count": null,
   "id": "b6c142a6-d642-446d-b67b-22c81cff378b",
   "metadata": {},
   "outputs": [],
   "source": []
  },
  {
   "cell_type": "code",
   "execution_count": null,
   "id": "bfe13bc2-6e48-4e3b-a7ed-e95c27b37814",
   "metadata": {},
   "outputs": [],
   "source": []
  }
 ],
 "metadata": {
  "kernelspec": {
   "display_name": "Python 3 (ipykernel)",
   "language": "python",
   "name": "python3"
  },
  "language_info": {
   "codemirror_mode": {
    "name": "ipython",
    "version": 3
   },
   "file_extension": ".py",
   "mimetype": "text/x-python",
   "name": "python",
   "nbconvert_exporter": "python",
   "pygments_lexer": "ipython3",
   "version": "3.11.5"
  }
 },
 "nbformat": 4,
 "nbformat_minor": 5
}
