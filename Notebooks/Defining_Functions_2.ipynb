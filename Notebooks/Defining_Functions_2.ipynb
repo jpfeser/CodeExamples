{
 "cells": [
  {
   "cell_type": "markdown",
   "id": "02a2118a-9849-4b7e-83f1-e77227a79c91",
   "metadata": {},
   "source": [
    "# How to Define Custom Functions in Python\n",
    "\n",
    "In Python, functions are defined using the def keyword, followed by the function name and parentheses (). Any input parameters or arguments should be placed within these parentheses. The function body starts with a colon : and is indented. Functions can return data as a result.\n",
    "\n",
    "## 1. Basic Syntax\n",
    "\n",
    "Here's the basic syntax for defining a function in Python:"
   ]
  },
  {
   "cell_type": "code",
   "execution_count": 1,
   "id": "328a4c4a-1b9e-4bcc-894e-d879a2854210",
   "metadata": {},
   "outputs": [],
   "source": [
    "def function_name(parameters):\n",
    "    \"\"\"Docstring explaining the function.\"\"\"\n",
    "    # Function body\n",
    "    return value"
   ]
  },
  {
   "cell_type": "markdown",
   "id": "e1dca23c-5ba9-40c1-8d5c-237b58e43e7a",
   "metadata": {},
   "source": [
    "* `function_name` should be a lowercase name describing what the function does.\n",
    "* `parameters` are the values passed to the function. They are optional; a function may have no parameters. But you must still include the parentheses and colon `();`.\n",
    "* The \"\"\"Docstring\"\"\" is optional but recommended. It explains what the function does.\n",
    "return value is also optional. If your function needs to return a value or result, use return. If not, you can omit it, and the function will return None by default.  The Docstring is printed if some asks for `help` with the function.  Most built-in functions will return help if you ask for it."
   ]
  },
  {
   "cell_type": "code",
   "execution_count": 2,
   "id": "9b35f277-2bb0-4baf-a23b-2144c267920e",
   "metadata": {},
   "outputs": [
    {
     "name": "stdout",
     "output_type": "stream",
     "text": [
      "Help on function function_name in module __main__:\n",
      "\n",
      "function_name(parameters)\n",
      "    Docstring explaining the function.\n",
      "\n"
     ]
    }
   ],
   "source": [
    "help(function_name)"
   ]
  },
  {
   "cell_type": "markdown",
   "id": "6b312cb4-cb1a-4fcc-98b0-99323774befe",
   "metadata": {},
   "source": [
    "## 2. Example: A Simple Function\n",
    "\n",
    "Let's define a simple function that adds two numbers:"
   ]
  },
  {
   "cell_type": "code",
   "execution_count": 3,
   "id": "8d370b98-e741-4cc8-bcd9-2cebc8a4ae74",
   "metadata": {},
   "outputs": [],
   "source": [
    "def add_numbers(x, y):\n",
    "    \"\"\"Add two numbers and return the result.\"\"\"\n",
    "    return x + y\n"
   ]
  },
  {
   "cell_type": "markdown",
   "id": "5ef939e3-9bac-4396-96d2-a161b0b4c295",
   "metadata": {},
   "source": [
    "You can call this function with two arguments to get their sum:"
   ]
  },
  {
   "cell_type": "code",
   "execution_count": 9,
   "id": "2a04c9a3-2cf8-4c33-8b79-5c0f5cd6e132",
   "metadata": {},
   "outputs": [
    {
     "name": "stdout",
     "output_type": "stream",
     "text": [
      "8\n",
      "8\n"
     ]
    }
   ],
   "source": [
    "result = add_numbers(5, 3)\n",
    "print(result)  # Output: 8\n",
    "\n",
    "result2 = add_numbers(x = 5, y = 3) # can call with \"Keywords\" as well...see below.\n",
    "print(result2)  # Output: 8"
   ]
  },
  {
   "cell_type": "markdown",
   "id": "c0816865-6695-49aa-9f42-e7fc1adb3d2f",
   "metadata": {},
   "source": [
    "## 3 Example:  Functions with Multiple Outputs\n",
    "\n",
    "You can use so-called \"tuples\" to return multiple variables (and to receive them); the variables don't have to be the same type of thing.  A tuple is written a series of variables separated by commas and brackets by parentheses (as opposed to square or curly brackets [] or {}), although somewhat confusingly Python allows you to omit the parentheses if you want!   It's best to see an example"
   ]
  },
  {
   "cell_type": "code",
   "execution_count": 19,
   "id": "f3bd0fd8-dd9a-41d8-9bbb-2d8700c37819",
   "metadata": {},
   "outputs": [],
   "source": [
    "def return_two_things_version1(x, y):\n",
    "    return (x+y, [x, y])  # <--- tuple.  the first thing in the tuple is scalar, the second thing is a list/array\n",
    "\n",
    "def return_two_things_version2(x, y):\n",
    "    return x+y, [x, y]       # does same thing without the parentheses.  More typical style."
   ]
  },
  {
   "cell_type": "markdown",
   "id": "7a7fd0e2-c848-4168-bce9-4e4f8cfcdfe1",
   "metadata": {},
   "source": [
    "and these can be recieved a similar way."
   ]
  },
  {
   "cell_type": "code",
   "execution_count": 21,
   "id": "93c81371-5a8e-43d1-96df-abf72803ae9a",
   "metadata": {},
   "outputs": [
    {
     "name": "stdout",
     "output_type": "stream",
     "text": [
      "8\n",
      "[5, 3]\n",
      "8\n",
      "[5, 3]\n"
     ]
    }
   ],
   "source": [
    "# you can recieve the outputs directly to separate variables (Most typical style)\n",
    "output_sum, output_list = return_two_things_version1(5, 3);   # again, parentheses around tuple (output_sum, output_list) are optional\n",
    "print(output_sum)\n",
    "print(output_list)\n",
    "\n",
    "# or you can recieve the outputs a one \"tuple\" variable and break it apart later using indices\n",
    "tuple_output = return_two_things_version1(5, 3);\n",
    "print(tuple_output[0])  # the scalar\n",
    "print(tuple_output[1])  # the list\n",
    "\n",
    "# so many (too many?!) options."
   ]
  },
  {
   "cell_type": "markdown",
   "id": "63cb8195-2a97-4bf3-a0a7-84c75aef3005",
   "metadata": {},
   "source": [
    "## 4. Function Parameters and Arguments\n",
    "\n",
    "### Positional Arguments\n",
    "Values passed to functions in the order in which they are defined.  All arguments in a function call are positional until a keyword is used (with the equal sign).\n",
    "\n",
    "### Keyword Arguments\n",
    "These are values passed to functions by explicitly stating which parameter they are for, allowing them to be in any order.  The variable name before the `=` sign is the \"Keyword\" for the parameter.\n",
    "\n",
    "### Default Parameters\n",
    "You can set default values for parameters when you define the function, making them optional during function calls.  The stuff after the `=` sign in the function definition is the \"Default\" for the parameter.  You are not required to include a default value in a function definition, but ***all parameters without default values are required to appear in function calls***.\n",
    "\n",
    "Example"
   ]
  },
  {
   "cell_type": "code",
   "execution_count": 24,
   "id": "2f28d476-0776-4651-bd3e-96f4acc72ded",
   "metadata": {},
   "outputs": [],
   "source": [
    "def Rth(A, L, k=1):\n",
    "    \"\"\"Calculate steady thermal resistance in a 1D slab.\"\"\"\n",
    "    return L/(k*A)"
   ]
  },
  {
   "cell_type": "markdown",
   "id": "a18416eb-922a-42db-b820-c3c8060d15ce",
   "metadata": {},
   "source": [
    "* `A` and `L` are required arguments if you call this function (they have no default value)\n",
    "* `k` has a default value of 1.  It is optional to provide in a function call.\n",
    "\n",
    "This can be called entirely with positional arguments if I provide A, L and k in order"
   ]
  },
  {
   "cell_type": "code",
   "execution_count": 25,
   "id": "63a56a84-5200-4c92-a5b9-0a5be175a813",
   "metadata": {},
   "outputs": [
    {
     "name": "stdout",
     "output_type": "stream",
     "text": [
      "0.6666666666666666\n"
     ]
    }
   ],
   "source": [
    "print(Rth(1,2,3));   # means A = 1, L = 2, k = 3"
   ]
  },
  {
   "cell_type": "markdown",
   "id": "37f9ad30-e0ae-4327-87d5-35a608fe49d4",
   "metadata": {},
   "source": [
    "or with just two positional arguments since there is a default value."
   ]
  },
  {
   "cell_type": "code",
   "execution_count": 27,
   "id": "9de1b813-ea50-41dc-a3a2-b711ddda7e15",
   "metadata": {},
   "outputs": [
    {
     "name": "stdout",
     "output_type": "stream",
     "text": [
      "2.0\n"
     ]
    }
   ],
   "source": [
    "print(Rth(1,2));  # means A = 1, L=2, k=1 (uses default value for k)"
   ]
  },
  {
   "cell_type": "markdown",
   "id": "b2380b8c-c0f3-4292-88fd-a810d341d964",
   "metadata": {},
   "source": [
    "or using Keywords (typically easier to read!)"
   ]
  },
  {
   "cell_type": "code",
   "execution_count": 29,
   "id": "7f0ed51a-a4f8-4ab9-b684-52b4455bb5e7",
   "metadata": {},
   "outputs": [
    {
     "name": "stdout",
     "output_type": "stream",
     "text": [
      "0.6666666666666666\n"
     ]
    }
   ],
   "source": [
    "print(Rth(k=3 ,A=1, L=2)); # means A = 1, L = 2, k = 3, note how you can even do it \"out of order\" with keywords"
   ]
  },
  {
   "cell_type": "markdown",
   "id": "d8dcf3b3-6470-4f6b-860c-d70186508811",
   "metadata": {},
   "source": [
    "After you invoke the first keyword, you won't be able to use non-keyword inputs though :(.  So you can't do this:"
   ]
  },
  {
   "cell_type": "code",
   "execution_count": 31,
   "id": "70f0cf4d-585a-4aa7-bc1e-e749d48f1f6e",
   "metadata": {},
   "outputs": [
    {
     "ename": "SyntaxError",
     "evalue": "positional argument follows keyword argument (559306697.py, line 1)",
     "output_type": "error",
     "traceback": [
      "\u001b[0;36m  Cell \u001b[0;32mIn[31], line 1\u001b[0;36m\u001b[0m\n\u001b[0;31m    print(Rth(A=1 ,2, k=3)); # using A=1, means \"L\" (2) can't be provided as a \"positional\" argument anymore\u001b[0m\n\u001b[0m                         ^\u001b[0m\n\u001b[0;31mSyntaxError\u001b[0m\u001b[0;31m:\u001b[0m positional argument follows keyword argument\n"
     ]
    }
   ],
   "source": [
    "print(Rth(A=1 ,2, k=3)); # using A=1, means \"L\" (2) can't be provided as a \"positional\" argument anymore"
   ]
  },
  {
   "cell_type": "markdown",
   "id": "cd9a1ac3-9f2d-4b87-9f05-fa06884b6165",
   "metadata": {},
   "source": [
    "## 5.   Lambda (aka Anonymous) functions\n",
    "\n",
    "You can write single line functions (often handy!) using anonymous functions.  The general syntax is \n",
    "\n",
    "`lambda arguments: expression`\n",
    "\n",
    "Lambda functions can have any number of arguments but must only use one line of code.\n",
    "\n",
    "Ex."
   ]
  },
  {
   "cell_type": "code",
   "execution_count": 33,
   "id": "e38d8b82-51c3-42af-b915-de0e40126887",
   "metadata": {},
   "outputs": [],
   "source": [
    "my_func = lambda x,y:  x*y "
   ]
  },
  {
   "cell_type": "markdown",
   "id": "2c66c82a-7773-4f22-bf91-2d13adf5248a",
   "metadata": {},
   "source": [
    "* the function name is `my_func`\n",
    "* it has two required inputs, `x` and `y`\n",
    "* it returns a scalar `x*y`"
   ]
  },
  {
   "cell_type": "code",
   "execution_count": 37,
   "id": "e7179a0b-4308-4ae7-a40c-c0309fccbc03",
   "metadata": {},
   "outputs": [
    {
     "data": {
      "text/plain": [
       "6"
      ]
     },
     "execution_count": 37,
     "metadata": {},
     "output_type": "execute_result"
    }
   ],
   "source": [
    "my_func(y=3, x=2) # evaluated just like other functions (can even use keywords!)"
   ]
  },
  {
   "cell_type": "code",
   "execution_count": 43,
   "id": "f894205f-221e-410b-aaa4-a1f45f52bbf0",
   "metadata": {},
   "outputs": [],
   "source": [
    "my_func2 = lambda x,y:  [x*y, x/y] # you can output more complex things like arrays, tuples, whatevs."
   ]
  },
  {
   "cell_type": "code",
   "execution_count": 42,
   "id": "771e5d2a-f7f7-4184-8e72-7b5d48e85b2d",
   "metadata": {},
   "outputs": [
    {
     "data": {
      "text/plain": [
       "[6, 0.6666666666666666]"
      ]
     },
     "execution_count": 42,
     "metadata": {},
     "output_type": "execute_result"
    }
   ],
   "source": [
    "my_func2(2, 3) # x=2, y=3"
   ]
  },
  {
   "cell_type": "code",
   "execution_count": null,
   "id": "76ab0303-6de6-47a2-949e-f0d47a8a39ca",
   "metadata": {},
   "outputs": [],
   "source": []
  }
 ],
 "metadata": {
  "kernelspec": {
   "display_name": "Python 3 (ipykernel)",
   "language": "python",
   "name": "python3"
  },
  "language_info": {
   "codemirror_mode": {
    "name": "ipython",
    "version": 3
   },
   "file_extension": ".py",
   "mimetype": "text/x-python",
   "name": "python",
   "nbconvert_exporter": "python",
   "pygments_lexer": "ipython3",
   "version": "3.11.5"
  }
 },
 "nbformat": 4,
 "nbformat_minor": 5
}
